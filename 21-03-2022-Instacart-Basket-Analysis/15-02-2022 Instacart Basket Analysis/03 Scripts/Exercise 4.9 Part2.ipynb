{
 "cells": [
  {
   "cell_type": "markdown",
   "id": "49006273",
   "metadata": {},
   "source": [
    "# Import Libraries"
   ]
  },
  {
   "cell_type": "code",
   "execution_count": 2,
   "id": "ed330948",
   "metadata": {},
   "outputs": [],
   "source": [
    "import pandas as pd\n",
    "import numpy as np\n",
    "import os\n",
    "import matplotlib.pyplot as plt\n",
    "import seaborn as sns\n",
    "import scipy"
   ]
  },
  {
   "cell_type": "markdown",
   "id": "b0374990",
   "metadata": {},
   "source": [
    "# Creating  path and import Dataframe from Part 1"
   ]
  },
  {
   "cell_type": "code",
   "execution_count": 3,
   "id": "da293acf",
   "metadata": {},
   "outputs": [],
   "source": [
    "path = r'C:\\Users\\stefa\\15-02-2022 Instacart Basket Analysis'"
   ]
  },
  {
   "cell_type": "code",
   "execution_count": 4,
   "id": "a45c32a2",
   "metadata": {},
   "outputs": [],
   "source": [
    "ords_prods_customers = pd.read_pickle(os.path.join(path, '02 Data', 'Prepared Data', 'ords_prods_customers.pkl'))"
   ]
  },
  {
   "cell_type": "markdown",
   "id": "6d41b091",
   "metadata": {},
   "source": [
    "# 2. If you haven’t done so already, follow the instructions in the Exercise to create a bar chart, a histogram, a scatterplot, and a line chart, using a sample subset for the line chart."
   ]
  },
  {
   "cell_type": "code",
   "execution_count": 5,
   "id": "d3c7e0f1",
   "metadata": {},
   "outputs": [],
   "source": [
    "# Creating a Bar Chart"
   ]
  },
  {
   "cell_type": "code",
   "execution_count": 6,
   "id": "b1219aea",
   "metadata": {},
   "outputs": [
    {
     "data": {
      "text/plain": [
       "<AxesSubplot:>"
      ]
     },
     "execution_count": 6,
     "metadata": {},
     "output_type": "execute_result"
    },
    {
     "data": {
      "image/png": "[encoded data removed]",
      "text/plain": [
       "<Figure size 432x288 with 1 Axes>"
      ]
     },
     "metadata": {
      "needs_background": "light"
     },
     "output_type": "display_data"
    }
   ],
   "source": [
    "ords_prods_customers['orders_day_of_week'].value_counts().plot.bar()"
   ]
  },
  {
   "cell_type": "code",
   "execution_count": 7,
   "id": "baa967a9",
   "metadata": {},
   "outputs": [],
   "source": [
    "# As visible, the Bar char lists the day from hughest to lowest orders. For a better visualisation i would change the setting to display each day"
   ]
  },
  {
   "cell_type": "code",
   "execution_count": 8,
   "id": "1436fb8c",
   "metadata": {},
   "outputs": [
    {
     "data": {
      "image/png": "[encoded data removed]",
      "text/plain": [
       "<Figure size 432x288 with 1 Axes>"
      ]
     },
     "metadata": {
      "needs_background": "light"
     },
     "output_type": "display_data"
    }
   ],
   "source": [
    "bar = ords_prods_customers['orders_day_of_week'].value_counts().sort_index().plot.bar()"
   ]
  },
  {
   "cell_type": "code",
   "execution_count": 9,
   "id": "7e690343",
   "metadata": {},
   "outputs": [],
   "source": [
    "# Like this we can see lower Orders during the week and more during Weekend"
   ]
  },
  {
   "cell_type": "code",
   "execution_count": 10,
   "id": "a1ad93d7",
   "metadata": {},
   "outputs": [],
   "source": [
    "# Creating a histogram"
   ]
  },
  {
   "cell_type": "code",
   "execution_count": 11,
   "id": "2a4101fb",
   "metadata": {
    "scrolled": true
   },
   "outputs": [
    {
     "data": {
      "text/plain": [
       "<AxesSubplot:ylabel='Frequency'>"
      ]
     },
     "execution_count": 11,
     "metadata": {},
     "output_type": "execute_result"
    },
    {
     "data": {
      "image/png": "[encoded data removed]",
      "text/plain": [
       "<Figure size 432x288 with 1 Axes>"
      ]
     },
     "metadata": {
      "needs_background": "light"
     },
     "output_type": "display_data"
    }
   ],
   "source": [
    "ords_prods_customers['prices'].plot.hist(bins = 25)"
   ]
  },
  {
   "cell_type": "code",
   "execution_count": 12,
   "id": "0f47e23c",
   "metadata": {},
   "outputs": [],
   "source": [
    "# In order to visually update the Histogram i need the mean,median and max "
   ]
  },
  {
   "cell_type": "code",
   "execution_count": 13,
   "id": "f8fa2843",
   "metadata": {},
   "outputs": [
    {
     "data": {
      "text/plain": [
       "count    3.240486e+07\n",
       "mean     1.198023e+01\n",
       "std      4.956554e+02\n",
       "min      1.000000e+00\n",
       "25%      4.200000e+00\n",
       "50%      7.400000e+00\n",
       "75%      1.130000e+01\n",
       "max      9.999900e+04\n",
       "Name: prices, dtype: float64"
      ]
     },
     "execution_count": 13,
     "metadata": {},
     "output_type": "execute_result"
    }
   ],
   "source": [
    "ords_prods_customers['prices'].describe()"
   ]
  },
  {
   "cell_type": "code",
   "execution_count": 14,
   "id": "1afda87c",
   "metadata": {},
   "outputs": [
    {
     "data": {
      "text/plain": [
       "11.980225638676366"
      ]
     },
     "execution_count": 14,
     "metadata": {},
     "output_type": "execute_result"
    }
   ],
   "source": [
    "ords_prods_customers['prices'].mean()"
   ]
  },
  {
   "cell_type": "code",
   "execution_count": 15,
   "id": "da00ea2e",
   "metadata": {},
   "outputs": [
    {
     "data": {
      "text/plain": [
       "7.4"
      ]
     },
     "execution_count": 15,
     "metadata": {},
     "output_type": "execute_result"
    }
   ],
   "source": [
    "ords_prods_customers['prices'].median()"
   ]
  },
  {
   "cell_type": "code",
   "execution_count": 16,
   "id": "fa37e6af",
   "metadata": {},
   "outputs": [
    {
     "data": {
      "text/plain": [
       "99999.0"
      ]
     },
     "execution_count": 16,
     "metadata": {},
     "output_type": "execute_result"
    }
   ],
   "source": [
    "ords_prods_customers['prices'].max()"
   ]
  },
  {
   "cell_type": "code",
   "execution_count": 17,
   "id": "0bf99329",
   "metadata": {},
   "outputs": [],
   "source": [
    "#with the mean, median and max we can now create the Histogram and Scatterplot"
   ]
  },
  {
   "cell_type": "code",
   "execution_count": 18,
   "id": "3c808e95",
   "metadata": {},
   "outputs": [
    {
     "data": {
      "text/plain": [
       "<AxesSubplot:xlabel='prices', ylabel='prices'>"
      ]
     },
     "execution_count": 18,
     "metadata": {},
     "output_type": "execute_result"
    },
    {
     "data": {
      "image/png": "[encoded data removed]",
      "text/plain": [
       "<Figure size 432x288 with 1 Axes>"
      ]
     },
     "metadata": {
      "needs_background": "light"
     },
     "output_type": "display_data"
    }
   ],
   "source": [
    "sns.scatterplot(x = 'prices', y = 'prices',data = ords_prods_customers)"
   ]
  },
  {
   "cell_type": "code",
   "execution_count": 19,
   "id": "572435d5",
   "metadata": {},
   "outputs": [],
   "source": [
    "# As in the previous Exercise we should remove the outliers"
   ]
  },
  {
   "cell_type": "code",
   "execution_count": 20,
   "id": "cd03b868",
   "metadata": {},
   "outputs": [],
   "source": [
    "ords_prods_customers.loc[ords_prods_customers['prices'] >100, 'prices'] = np.nan"
   ]
  },
  {
   "cell_type": "code",
   "execution_count": 21,
   "id": "8b4a5ff2",
   "metadata": {},
   "outputs": [
    {
     "data": {
      "text/plain": [
       "25.0"
      ]
     },
     "execution_count": 21,
     "metadata": {},
     "output_type": "execute_result"
    }
   ],
   "source": [
    "#Verification for removal\n",
    "\n",
    "ords_prods_customers['prices'].max()"
   ]
  },
  {
   "cell_type": "code",
   "execution_count": 22,
   "id": "872b0709",
   "metadata": {},
   "outputs": [],
   "source": [
    "#updated scatterplot after outliers have been removed"
   ]
  },
  {
   "cell_type": "code",
   "execution_count": 23,
   "id": "f8c3914d",
   "metadata": {
    "scrolled": true
   },
   "outputs": [
    {
     "data": {
      "image/png": "[encoded data removed]",
      "text/plain": [
       "<Figure size 432x288 with 1 Axes>"
      ]
     },
     "metadata": {
      "needs_background": "light"
     },
     "output_type": "display_data"
    }
   ],
   "source": [
    "scatter_1 = sns.scatterplot(x = 'prices', y = 'prices',data = ords_prods_customers)"
   ]
  },
  {
   "cell_type": "code",
   "execution_count": 37,
   "id": "80d5ba35",
   "metadata": {},
   "outputs": [
    {
     "data": {
      "image/png": "[encoded data removed]",
      "text/plain": [
       "<Figure size 432x288 with 1 Axes>"
      ]
     },
     "metadata": {
      "needs_background": "light"
     },
     "output_type": "display_data"
    }
   ],
   "source": [
    "# Creating histogram with removed outliers\n",
    "\n",
    "histogram_1 = ords_prods_customers['prices'].plot.hist(bins = 25)"
   ]
  },
  {
   "cell_type": "code",
   "execution_count": null,
   "id": "ed291d07",
   "metadata": {},
   "outputs": [],
   "source": [
    "# Creating a LineChart"
   ]
  },
  {
   "cell_type": "code",
   "execution_count": 16,
   "id": "ab56e087",
   "metadata": {},
   "outputs": [],
   "source": [
    "np.random.seed(4)\n",
    "dev = np.random.rand(len(ords_prods_customers)) <= 0.7"
   ]
  },
  {
   "cell_type": "code",
   "execution_count": 17,
   "id": "4331614a",
   "metadata": {},
   "outputs": [
    {
     "data": {
      "text/plain": [
       "array([False,  True, False, ...,  True, False,  True])"
      ]
     },
     "execution_count": 17,
     "metadata": {},
     "output_type": "execute_result"
    }
   ],
   "source": [
    "dev"
   ]
  },
  {
   "cell_type": "code",
   "execution_count": 18,
   "id": "1c048e88",
   "metadata": {},
   "outputs": [],
   "source": [
    "# 70/30% Dataframesample\n",
    "\n",
    "big = ords_prods_customers[dev]\n",
    "small = ords_prods_customers[~dev]"
   ]
  },
  {
   "cell_type": "code",
   "execution_count": 19,
   "id": "6c6a4508",
   "metadata": {},
   "outputs": [
    {
     "data": {
      "text/plain": [
       "32641268"
      ]
     },
     "execution_count": 19,
     "metadata": {},
     "output_type": "execute_result"
    }
   ],
   "source": [
    "# Verification\n",
    "\n",
    "len(ords_prods_customers)"
   ]
  },
  {
   "cell_type": "code",
   "execution_count": 20,
   "id": "b705158d",
   "metadata": {},
   "outputs": [
    {
     "data": {
      "text/plain": [
       "32641268"
      ]
     },
     "execution_count": 20,
     "metadata": {},
     "output_type": "execute_result"
    }
   ],
   "source": [
    "len(big) + len(small)"
   ]
  },
  {
   "cell_type": "code",
   "execution_count": 21,
   "id": "39359546",
   "metadata": {},
   "outputs": [],
   "source": [
    "df_2 = small[['orders_day_of_week','prices']]"
   ]
  },
  {
   "cell_type": "code",
   "execution_count": 39,
   "id": "3f812eab",
   "metadata": {},
   "outputs": [
    {
     "data": {
      "image/png": "[encoded data removed]",
      "text/plain": [
       "<Figure size 432x288 with 1 Axes>"
      ]
     },
     "metadata": {
      "needs_background": "light"
     },
     "output_type": "display_data"
    }
   ],
   "source": [
    "line_1 = sns.lineplot(data = df_2, x = 'orders_day_of_week',y = 'prices')"
   ]
  },
  {
   "cell_type": "markdown",
   "id": "518f8838",
   "metadata": {},
   "source": [
    "# 3. You need to provide the Instacart senior stakeholders with descriptive findings about sales. Create a histogram of the “order_hour_of_day” column."
   ]
  },
  {
   "cell_type": "code",
   "execution_count": 41,
   "id": "b8c3c330",
   "metadata": {},
   "outputs": [
    {
     "data": {
      "image/png": "[encoded data removed]",
      "text/plain": [
       "<Figure size 432x288 with 1 Axes>"
      ]
     },
     "metadata": {
      "needs_background": "light"
     },
     "output_type": "display_data"
    }
   ],
   "source": [
    "histogram_2 = ords_prods_customers['order_time'].plot.hist(bins = 24)"
   ]
  },
  {
   "cell_type": "code",
   "execution_count": null,
   "id": "92445ff8",
   "metadata": {},
   "outputs": [],
   "source": [
    "# From the Exercise we just needed to choose the correct column and adjust the bins to 24 to represent 24hours each day. We can see that most orders occur after 10am until 4pm [Brunchtime] with constant decreasing numbers till the end of the day."
   ]
  },
  {
   "cell_type": "markdown",
   "id": "97a10ab8",
   "metadata": {},
   "source": [
    "# 4. The marketing team is curious about the distribution of orders among customers in terms of loyalty. Create a bar chart from the “loyalty_flag” column."
   ]
  },
  {
   "cell_type": "code",
   "execution_count": 43,
   "id": "cd9ddd6d",
   "metadata": {},
   "outputs": [
    {
     "data": {
      "image/png": "[encoded data removed]",
      "text/plain": [
       "<Figure size 432x288 with 1 Axes>"
      ]
     },
     "metadata": {
      "needs_background": "light"
     },
     "output_type": "display_data"
    }
   ],
   "source": [
    "bar_2 = ords_prods_customers['loyalty_flag'].value_counts().plot.bar()"
   ]
  },
  {
   "cell_type": "markdown",
   "id": "2630b910",
   "metadata": {},
   "source": [
    "# 5. Check whether there’s a difference in expenditure (the “prices” column) depending on the hour of the day. (Hint: To check this, you need to use an accurate sample for your line chart!)"
   ]
  },
  {
   "cell_type": "code",
   "execution_count": null,
   "id": "ef3923c7",
   "metadata": {},
   "outputs": [],
   "source": [
    "# First we created a smaller Sampleset as we have done before for creating this line chart"
   ]
  },
  {
   "cell_type": "code",
   "execution_count": 26,
   "id": "c691d696",
   "metadata": {},
   "outputs": [],
   "source": [
    "df_3 = small[['order_time','prices']]"
   ]
  },
  {
   "cell_type": "code",
   "execution_count": 45,
   "id": "860dce53",
   "metadata": {},
   "outputs": [
    {
     "data": {
      "image/png": "[encoded data removed]",
      "text/plain": [
       "<Figure size 432x288 with 1 Axes>"
      ]
     },
     "metadata": {
      "needs_background": "light"
     },
     "output_type": "display_data"
    }
   ],
   "source": [
    "line_2 = sns.lineplot(data = df_3, x = 'order_time',y = 'prices')"
   ]
  },
  {
   "cell_type": "markdown",
   "id": "e3ab0745",
   "metadata": {},
   "source": [
    "# 6. Now that you have information about customers, you need to conduct some exploratory analysis of customer demographics to inform the targeted marketing campaigns. First, determine whether there’s a connection between age and family status by creating a line chart exploring the connections between age and number of dependents:In a markdown cell beneath your line chart, describe what the line chart shows."
   ]
  },
  {
   "cell_type": "code",
   "execution_count": 28,
   "id": "51456830",
   "metadata": {},
   "outputs": [],
   "source": [
    "# As the Processing time of this Code is quite long, we create a smaller subset \n",
    "\n",
    "df_4 = ords_prods_customers[['age', 'n_dependants']]"
   ]
  },
  {
   "cell_type": "code",
   "execution_count": 29,
   "id": "37e7d353",
   "metadata": {},
   "outputs": [
    {
     "data": {
      "image/png": "[encoded data removed]",
      "text/plain": [
       "<Figure size 432x288 with 1 Axes>"
      ]
     },
     "metadata": {
      "needs_background": "light"
     },
     "output_type": "display_data"
    }
   ],
   "source": [
    "line = sns.lineplot(data = df_4, x = 'n_dependants', y = 'age')"
   ]
  },
  {
   "cell_type": "code",
   "execution_count": 31,
   "id": "ef500a4c",
   "metadata": {},
   "outputs": [
    {
     "data": {
      "text/plain": [
       "49.4653546240912"
      ]
     },
     "execution_count": 31,
     "metadata": {},
     "output_type": "execute_result"
    }
   ],
   "source": [
    "df_4['age'].mean()"
   ]
  },
  {
   "cell_type": "code",
   "execution_count": null,
   "id": "6a003017",
   "metadata": {},
   "outputs": [],
   "source": [
    "# We can see that the Mean Age of Instacarts customer is 49 'Years old'"
   ]
  },
  {
   "cell_type": "markdown",
   "id": "5cf2ec62",
   "metadata": {},
   "source": [
    "# 7. You’ll also need to explore whether there’s a connection between age and spending power. To visualize this relationship, create a scatterplot using the sns.scatterplot() function.In a markdown cell beneath your scatterplot, describe what the scatterplot shows."
   ]
  },
  {
   "cell_type": "code",
   "execution_count": 32,
   "id": "16b46b01",
   "metadata": {
    "scrolled": true
   },
   "outputs": [
    {
     "data": {
      "image/png": "[encoded data removed]",
      "text/plain": [
       "<Figure size 432x288 with 1 Axes>"
      ]
     },
     "metadata": {
      "needs_background": "light"
     },
     "output_type": "display_data"
    }
   ],
   "source": [
    "scatter = sns.scatterplot(data = ords_prods_customers, x = 'age', y = 'income')"
   ]
  },
  {
   "cell_type": "code",
   "execution_count": null,
   "id": "99ad30e0",
   "metadata": {},
   "outputs": [],
   "source": [
    "# From the Data in this Scatterplot we can see that as older the Instacart Customers get, the higher the income is. This is a positive Correlation"
   ]
  },
  {
   "cell_type": "markdown",
   "id": "35fab154",
   "metadata": {},
   "source": [
    "# 8. Export your visualizations as “.png” files in your relevant project folder."
   ]
  },
  {
   "cell_type": "code",
   "execution_count": null,
   "id": "1ecc96ae",
   "metadata": {},
   "outputs": [],
   "source": [
    "# Made a mistake not naming the Visualisations during Exercise, redone that in order to save the visualizations. Did not export Visualisations created during Exercise[i.e. Steps to histogram etc.]"
   ]
  },
  {
   "cell_type": "code",
   "execution_count": null,
   "id": "ada45723",
   "metadata": {},
   "outputs": [],
   "source": [
    "# bar chart order_day_of_week"
   ]
  },
  {
   "cell_type": "code",
   "execution_count": 36,
   "id": "a4c9977c",
   "metadata": {},
   "outputs": [],
   "source": [
    "bar.figure.savefig(os.path.join(path, '04 Analysis', 'Visualizations', 'orders_day_of_week_bar.png'))"
   ]
  },
  {
   "cell_type": "code",
   "execution_count": null,
   "id": "37f1b6ff",
   "metadata": {},
   "outputs": [],
   "source": [
    "# histogram prices"
   ]
  },
  {
   "cell_type": "code",
   "execution_count": 38,
   "id": "be42f1d9",
   "metadata": {},
   "outputs": [],
   "source": [
    "histogram_1.figure.savefig(os.path.join(path, '04 Analysis', 'Visualizations', 'histogram_1.png'))"
   ]
  },
  {
   "cell_type": "code",
   "execution_count": null,
   "id": "5fb05c53",
   "metadata": {},
   "outputs": [],
   "source": [
    "# line chart orders_day_of_week / prices"
   ]
  },
  {
   "cell_type": "code",
   "execution_count": 40,
   "id": "1a7412b5",
   "metadata": {},
   "outputs": [],
   "source": [
    "line_1.figure.savefig(os.path.join(path, '04 Analysis', 'Visualizations', 'line_1.png'))"
   ]
  },
  {
   "cell_type": "code",
   "execution_count": null,
   "id": "89352a26",
   "metadata": {},
   "outputs": [],
   "source": [
    "# histogram order_hour"
   ]
  },
  {
   "cell_type": "code",
   "execution_count": 42,
   "id": "d93520f7",
   "metadata": {},
   "outputs": [],
   "source": [
    "histogram_2.figure.savefig(os.path.join(path, '04 Analysis', 'Visualizations', 'order_hour_of_day.png'))"
   ]
  },
  {
   "cell_type": "code",
   "execution_count": null,
   "id": "08032d38",
   "metadata": {},
   "outputs": [],
   "source": [
    "# bar chart of loyalty Flag"
   ]
  },
  {
   "cell_type": "code",
   "execution_count": 44,
   "id": "f4333d6c",
   "metadata": {},
   "outputs": [],
   "source": [
    "bar_2.figure.savefig(os.path.join(path, '04 Analysis', 'Visualizations', 'loyalty.png'))"
   ]
  },
  {
   "cell_type": "code",
   "execution_count": null,
   "id": "64010dc4",
   "metadata": {},
   "outputs": [],
   "source": [
    "# linechart of order_time / prices"
   ]
  },
  {
   "cell_type": "code",
   "execution_count": 47,
   "id": "867f7dc2",
   "metadata": {},
   "outputs": [],
   "source": [
    "line_2.figure.savefig(os.path.join(path, '04 Analysis', 'Visualizations', 'line_2.png'))"
   ]
  },
  {
   "cell_type": "code",
   "execution_count": null,
   "id": "a860d107",
   "metadata": {},
   "outputs": [],
   "source": [
    "# linechart of dependants / age"
   ]
  },
  {
   "cell_type": "code",
   "execution_count": 46,
   "id": "cbf65624",
   "metadata": {},
   "outputs": [],
   "source": [
    "line.figure.savefig(os.path.join(path, '04 Analysis', 'Visualizations', 'line_3.png'))"
   ]
  },
  {
   "cell_type": "code",
   "execution_count": null,
   "id": "29c5b17c",
   "metadata": {},
   "outputs": [],
   "source": [
    "# scatterplot Age/income"
   ]
  },
  {
   "cell_type": "code",
   "execution_count": 48,
   "id": "f6fcf63d",
   "metadata": {},
   "outputs": [],
   "source": [
    "scatter.figure.savefig(os.path.join(path, '04 Analysis', 'Visualizations', 'scatter.png'))"
   ]
  },
  {
   "cell_type": "code",
   "execution_count": null,
   "id": "0a6b55d2",
   "metadata": {},
   "outputs": [],
   "source": [
    "# Scatterplot 1 prices"
   ]
  },
  {
   "cell_type": "code",
   "execution_count": null,
   "id": "c2038c72",
   "metadata": {},
   "outputs": [],
   "source": [
    "scatter_1.figure.savefig(os.path.join(path, '04 Analysis', 'Visualizations', 'scatter_1.png'))"
   ]
  },
  {
   "cell_type": "code",
   "execution_count": null,
   "id": "39232735",
   "metadata": {},
   "outputs": [],
   "source": []
  }
 ],
 "metadata": {
  "kernelspec": {
   "display_name": "Python 3 (ipykernel)",
   "language": "python",
   "name": "python3"
  },
  "language_info": {
   "codemirror_mode": {
    "name": "ipython",
    "version": 3
   },
   "file_extension": ".py",
   "mimetype": "text/x-python",
   "name": "python",
   "nbconvert_exporter": "python",
   "pygments_lexer": "ipython3",
   "version": "3.9.7"
  }
 },
 "nbformat": 4,
 "nbformat_minor": 5
}
