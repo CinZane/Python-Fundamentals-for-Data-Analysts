{
 "cells": [
  {
   "cell_type": "markdown",
   "id": "4184e4d0",
   "metadata": {},
   "source": [
    "# 01. Importing libraries"
   ]
  },
  {
   "cell_type": "code",
   "execution_count": 1,
   "id": "18378823",
   "metadata": {},
   "outputs": [],
   "source": [
    "# import libraries\n",
    "import pandas as pd\n",
    "import numpy as np\n",
    "import os"
   ]
  },
  {
   "cell_type": "markdown",
   "id": "6bc0904f",
   "metadata": {},
   "source": [
    "# 02. Python Data Types"
   ]
  },
  {
   "cell_type": "code",
   "execution_count": 8,
   "id": "490584fb",
   "metadata": {},
   "outputs": [],
   "source": [
    "a = 75\n",
    "b = 20\n",
    "c = 5"
   ]
  },
  {
   "cell_type": "code",
   "execution_count": 9,
   "id": "bba599cf",
   "metadata": {},
   "outputs": [
    {
     "data": {
      "text/plain": [
       "100"
      ]
     },
     "execution_count": 9,
     "metadata": {},
     "output_type": "execute_result"
    }
   ],
   "source": [
    "a + b + c"
   ]
  },
  {
   "cell_type": "code",
   "execution_count": 10,
   "id": "96296694",
   "metadata": {},
   "outputs": [
    {
     "data": {
      "text/plain": [
       "100"
      ]
     },
     "execution_count": 10,
     "metadata": {},
     "output_type": "execute_result"
    }
   ],
   "source": [
    "a + a - b - b - c - c"
   ]
  },
  {
   "cell_type": "code",
   "execution_count": 11,
   "id": "37392c69",
   "metadata": {},
   "outputs": [
    {
     "data": {
      "text/plain": [
       "100"
      ]
     },
     "execution_count": 11,
     "metadata": {},
     "output_type": "execute_result"
    }
   ],
   "source": [
    "5 * b"
   ]
  },
  {
   "cell_type": "code",
   "execution_count": 14,
   "id": "dd1e3530",
   "metadata": {},
   "outputs": [
    {
     "data": {
      "text/plain": [
       "100"
      ]
     },
     "execution_count": 14,
     "metadata": {},
     "output_type": "execute_result"
    }
   ],
   "source": [
    "2*a-(2*(b+c))"
   ]
  },
  {
   "cell_type": "code",
   "execution_count": 15,
   "id": "333d75e1",
   "metadata": {},
   "outputs": [],
   "source": [
    "d = 10.598\n",
    "e = 5.4"
   ]
  },
  {
   "cell_type": "code",
   "execution_count": 16,
   "id": "5451c88f",
   "metadata": {},
   "outputs": [
    {
     "data": {
      "text/plain": [
       "1.9625925925925927"
      ]
     },
     "execution_count": 16,
     "metadata": {},
     "output_type": "execute_result"
    }
   ],
   "source": [
    "d / e"
   ]
  },
  {
   "cell_type": "code",
   "execution_count": 18,
   "id": "ba21e5d8",
   "metadata": {},
   "outputs": [
    {
     "data": {
      "text/plain": [
       "float"
      ]
     },
     "execution_count": 18,
     "metadata": {},
     "output_type": "execute_result"
    }
   ],
   "source": [
    "type(d)"
   ]
  },
  {
   "cell_type": "code",
   "execution_count": 8,
   "id": "4827c772",
   "metadata": {},
   "outputs": [],
   "source": [
    "f = 'Hello, '\n",
    "g = 'Welcome to the 2022 Winterolympics in Bejing ! '\n",
    "h = 'name ! '"
   ]
  },
  {
   "cell_type": "markdown",
   "id": "5f1e91e2",
   "metadata": {},
   "source": [
    " My thinking would be to Code the function and use h for the name that a possible csm has entered"
   ]
  },
  {
   "cell_type": "code",
   "execution_count": 9,
   "id": "0cd2a6d4",
   "metadata": {},
   "outputs": [
    {
     "data": {
      "text/plain": [
       "'Hello, name ! Welcome to the 2022 Winterolympics in Bejing ! '"
      ]
     },
     "execution_count": 9,
     "metadata": {},
     "output_type": "execute_result"
    }
   ],
   "source": [
    "f + h + g"
   ]
  },
  {
   "cell_type": "code",
   "execution_count": 10,
   "id": "c720f091",
   "metadata": {},
   "outputs": [
    {
     "name": "stdout",
     "output_type": "stream",
     "text": [
      "Hello, name ! Welcome to the 2022 Winterolympics in Bejing ! \n"
     ]
    }
   ],
   "source": [
    "print(f+h+g)"
   ]
  },
  {
   "cell_type": "code",
   "execution_count": 12,
   "id": "d97dd075",
   "metadata": {},
   "outputs": [],
   "source": [
    "z='IlovemyWife'"
   ]
  },
  {
   "cell_type": "code",
   "execution_count": 13,
   "id": "54cfcb7f",
   "metadata": {},
   "outputs": [
    {
     "data": {
      "text/plain": [
       "'IlovemyWifeIlovemyWifeIlovemyWifeIlovemyWifeIlovemyWifeIlovemyWifeIlovemyWifeIlovemyWifeIlovemyWifeIlovemyWifeIlovemyWifeIlovemyWifeIlovemyWifeIlovemyWifeIlovemyWifeIlovemyWifeIlovemyWifeIlovemyWifeIlovemyWifeIlovemyWifeIlovemyWifeIlovemyWifeIlovemyWifeIlovemyWifeIlovemyWifeIlovemyWifeIlovemyWifeIlovemyWifeIlovemyWifeIlovemyWifeIlovemyWifeIlovemyWifeIlovemyWifeIlovemyWifeIlovemyWifeIlovemyWifeIlovemyWifeIlovemyWifeIlovemyWifeIlovemyWifeIlovemyWifeIlovemyWifeIlovemyWifeIlovemyWifeIlovemyWifeIlovemyWifeIlovemyWifeIlovemyWifeIlovemyWifeIlovemyWifeIlovemyWifeIlovemyWifeIlovemyWifeIlovemyWifeIlovemyWifeIlovemyWifeIlovemyWifeIlovemyWifeIlovemyWifeIlovemyWifeIlovemyWifeIlovemyWifeIlovemyWifeIlovemyWifeIlovemyWifeIlovemyWifeIlovemyWifeIlovemyWifeIlovemyWifeIlovemyWifeIlovemyWifeIlovemyWifeIlovemyWifeIlovemyWifeIlovemyWifeIlovemyWifeIlovemyWifeIlovemyWifeIlovemyWifeIlovemyWifeIlovemyWifeIlovemyWifeIlovemyWifeIlovemyWifeIlovemyWifeIlovemyWifeIlovemyWifeIlovemyWifeIlovemyWifeIlovemyWifeIlovemyWifeIlovemyWifeIlovemyWifeIlovemyWifeIlovemyWifeIlovemyWifeIlovemyWifeIlovemyWifeIlovemyWifeIlovemyWife'"
      ]
     },
     "execution_count": 13,
     "metadata": {},
     "output_type": "execute_result"
    }
   ],
   "source": [
    "100*z"
   ]
  },
  {
   "cell_type": "code",
   "execution_count": null,
   "id": "c205fe3f",
   "metadata": {},
   "outputs": [],
   "source": []
  }
 ],
 "metadata": {
  "kernelspec": {
   "display_name": "Python 3 (ipykernel)",
   "language": "python",
   "name": "python3"
  },
  "language_info": {
   "codemirror_mode": {
    "name": "ipython",
    "version": 3
   },
   "file_extension": ".py",
   "mimetype": "text/x-python",
   "name": "python",
   "nbconvert_exporter": "python",
   "pygments_lexer": "ipython3",
   "version": "3.9.7"
  }
 },
 "nbformat": 4,
 "nbformat_minor": 5
}
